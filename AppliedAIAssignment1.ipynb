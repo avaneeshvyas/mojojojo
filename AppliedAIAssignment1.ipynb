{
  "nbformat": 4,
  "nbformat_minor": 0,
  "metadata": {
    "colab": {
      "name": "Copy of Untitled",
      "provenance": [],
      "authorship_tag": "ABX9TyM3dvvrjGKBZBeMKUCpMlIK",
      "include_colab_link": true
    },
    "kernelspec": {
      "name": "python3",
      "display_name": "Python 3"
    }
  },
  "cells": [
    {
      "cell_type": "markdown",
      "metadata": {
        "id": "view-in-github",
        "colab_type": "text"
      },
      "source": [
        "<a href=\"https://colab.research.google.com/github/avaneeshvyas/mojojojo/blob/master/AppliedAIAssignment1.ipynb\" target=\"_parent\"><img src=\"https://colab.research.google.com/assets/colab-badge.svg\" alt=\"Open In Colab\"/></a>"
      ]
    },
    {
      "cell_type": "code",
      "metadata": {
        "id": "-Kcb3fR3jpyn",
        "colab_type": "code",
        "outputId": "f8ddbd0e-d5e2-4bd1-9b55-3408639818e2",
        "colab": {
          "base_uri": "https://localhost:8080/",
          "height": 51
        }
      },
      "source": [
        "num=input()\n",
        "isInt=isinstance(num,int)\n",
        "if isInt:\n",
        "  print(num)\n",
        "else :\n",
        "  print(\"I don't know\")"
      ],
      "execution_count": 0,
      "outputs": [
        {
          "output_type": "stream",
          "text": [
            "10\n",
            "I don't know\n"
          ],
          "name": "stdout"
        }
      ]
    }
  ]
}