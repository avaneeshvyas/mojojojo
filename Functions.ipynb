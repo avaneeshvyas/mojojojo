{
  "nbformat": 4,
  "nbformat_minor": 0,
  "metadata": {
    "colab": {
      "name": "Functions",
      "provenance": [],
      "collapsed_sections": [],
      "authorship_tag": "ABX9TyNygR5vJWGuWQajmXBeFG0Y",
      "include_colab_link": true
    },
    "kernelspec": {
      "name": "python3",
      "display_name": "Python 3"
    }
  },
  "cells": [
    {
      "cell_type": "markdown",
      "metadata": {
        "id": "view-in-github",
        "colab_type": "text"
      },
      "source": [
        "<a href=\"https://colab.research.google.com/github/avaneeshvyas/mojojojo/blob/PythonTasks/Functions.ipynb\" target=\"_parent\"><img src=\"https://colab.research.google.com/assets/colab-badge.svg\" alt=\"Open In Colab\"/></a>"
      ]
    },
    {
      "cell_type": "markdown",
      "metadata": {
        "id": "3NUDtYI5PMO1",
        "colab_type": "text"
      },
      "source": [
        "1. Multiplication table till 10"
      ]
    },
    {
      "cell_type": "code",
      "metadata": {
        "id": "-Kcb3fR3jpyn",
        "colab_type": "code",
        "outputId": "cac7314a-b353-4dca-c44b-715264883cf2",
        "colab": {
          "base_uri": "https://localhost:8080/",
          "height": 204
        }
      },
      "source": [
        "num=input()\n",
        "if num:\n",
        "  try:\n",
        "      num=int(num)\n",
        "      isInt=isinstance(num,int)\n",
        "      if isInt:\n",
        "        for i in range(1,11):\n",
        "          print(num,\"x\",i,\"=\",num*i)\n",
        "      else :\n",
        "        print(\"I don't know\")\n",
        "  except ValueError:\n",
        "      print(\"Not all numbers entered are digits\")\n",
        "else:\n",
        "   print(\"No value entered\")"
      ],
      "execution_count": 0,
      "outputs": [
        {
          "output_type": "stream",
          "text": [
            "23\n",
            "23 x 1 = 23\n",
            "23 x 2 = 46\n",
            "23 x 3 = 69\n",
            "23 x 4 = 92\n",
            "23 x 5 = 115\n",
            "23 x 6 = 138\n",
            "23 x 7 = 161\n",
            "23 x 8 = 184\n",
            "23 x 9 = 207\n",
            "23 x 10 = 230\n"
          ],
          "name": "stdout"
        }
      ]
    },
    {
      "cell_type": "markdown",
      "metadata": {
        "id": "n14_7s8fPjyQ",
        "colab_type": "text"
      },
      "source": [
        "2. Twin primes less than 1000 : excluding 1"
      ]
    },
    {
      "cell_type": "code",
      "metadata": {
        "id": "1cyAi67PPuG-",
        "colab_type": "code",
        "outputId": "064beb2a-9301-49a5-aca6-5e9e30844237",
        "colab": {
          "base_uri": "https://localhost:8080/",
          "height": 187
        }
      },
      "source": [
        "from math import sqrt\n",
        "def isPrimeFunc(num):\n",
        "  for i in range (2,int(sqrt(num))+1):\n",
        "    if num % i == 0:\n",
        "      return 0\n",
        "  return 1\n",
        " \n",
        "inRange=input()\n",
        "if inRange:\n",
        "  try:\n",
        "      inRange=int(inRange)\n",
        "      isInt=isinstance(inRange,int)\n",
        "      if isInt:\n",
        "        print(\"The co-primes for first\",inRange,\"numbers are:\")\n",
        "        for i in range(1,inRange+1):\n",
        "          if i == 1 or i == 3:\n",
        "             continue\n",
        "          else:\n",
        "             res=i % 2\n",
        "             if res:\n",
        "               retValue1 = isPrimeFunc(i)\n",
        "               retValue2 = isPrimeFunc(i-2)\n",
        "               if retValue1 and retValue2:\n",
        "                 print(i-2,i)\n",
        "                 isPrime1 = 0\n",
        "                 isPrime2 = 0\n",
        "      else :\n",
        "        print(\"I don't know\")\n",
        "  except ValueError:\n",
        "      print(\"Range value eneterd is not a number\")\n",
        "else:\n",
        "   print(\"No value entered\")"
      ],
      "execution_count": 0,
      "outputs": [
        {
          "output_type": "stream",
          "text": [
            "100\n",
            "The co-primes for first 100 numbers are:\n",
            "3 5\n",
            "5 7\n",
            "11 13\n",
            "17 19\n",
            "29 31\n",
            "41 43\n",
            "59 61\n",
            "71 73\n"
          ],
          "name": "stdout"
        }
      ]
    },
    {
      "cell_type": "markdown",
      "metadata": {
        "id": "Mij4IFcebN0g",
        "colab_type": "text"
      },
      "source": [
        "3. Prime Factors of a number: excluding 1"
      ]
    },
    {
      "cell_type": "code",
      "metadata": {
        "id": "kKR1t744bS4z",
        "colab_type": "code",
        "outputId": "5b00218c-afd9-4df7-9257-85c8ba40bc83",
        "colab": {
          "base_uri": "https://localhost:8080/",
          "height": 68
        }
      },
      "source": [
        "from math import sqrt\n",
        "def isPrimeFunc(num):\n",
        "  for i in range (2,int(sqrt(num))+1):\n",
        "    if num % i == 0:\n",
        "      return 0\n",
        "  return 1\n",
        " \n",
        "inRange=input()\n",
        "firstPrint = 1;\n",
        "if inRange:\n",
        "  try:\n",
        "      inRange=int(inRange)\n",
        "      isInt=isinstance(inRange,int)\n",
        "      if isInt:\n",
        "        print(\"The prime factors of\",inRange,\"are:\")\n",
        "        for i in range(1,inRange):\n",
        "          if i == 1:\n",
        "             continue\n",
        "          else:\n",
        "            retValue = isPrimeFunc(i)\n",
        "            if retValue:\n",
        "              tempNum=inRange;\n",
        "              while(tempNum > 0):\n",
        "                remainder= tempNum % i\n",
        "                if remainder == 0:\n",
        "                  tempNum = int(tempNum/i)\n",
        "                  if firstPrint == 0:\n",
        "                    print(\",\",i, end=\" \")\n",
        "                  else:\n",
        "                    print(i, end=\" \"),\n",
        "                    firstPrint = 0\n",
        "                else:\n",
        "                  tempNum = 0\n",
        "            else:\n",
        "              continue\n",
        "      else :\n",
        "        print(\"I don't know\")\n",
        "  except ValueError:\n",
        "      print(\"Range value eneterd is not a number\")\n",
        "else:\n",
        "   print(\"No value entered\")"
      ],
      "execution_count": 0,
      "outputs": [
        {
          "output_type": "stream",
          "text": [
            "1512\n",
            "The prime factors of 1512 are:\n",
            "2 , 2 , 2 , 3 , 3 , 3 , 7 "
          ],
          "name": "stdout"
        }
      ]
    },
    {
      "cell_type": "markdown",
      "metadata": {
        "id": "ev-KvgYbJhkp",
        "colab_type": "text"
      },
      "source": [
        "4. Permutation and combination of a given number"
      ]
    },
    {
      "cell_type": "code",
      "metadata": {
        "colab_type": "code",
        "id": "TtEiDOwUKFUl",
        "outputId": "9fc6f357-b394-4262-f3a8-3c0557303ef1",
        "colab": {
          "base_uri": "https://localhost:8080/",
          "height": 119
        }
      },
      "source": [
        "def factorial(num):\n",
        "  if num == 1:\n",
        "    return 1\n",
        "  else:\n",
        "    return num * factorial(num-1)\n",
        "\n",
        "print(\"Total objects n\")\n",
        "n=input()\n",
        "print(\"Ordered objects r\")\n",
        "r = input()\n",
        "if n and r:\n",
        "  try:\n",
        "    n=int(n)\n",
        "    r=int(r)\n",
        "    nIsInt=isinstance(n,int)\n",
        "    rIsInt=isinstance(r,int)\n",
        "    if nIsInt and rIsInt and n>0 and r>0:\n",
        "      if n > r:\n",
        "        perm=int(factorial(n)/factorial(n-r))\n",
        "        comb=int(perm/factorial(r))\n",
        "        print(\"Permutation of \",n,\"and \",r, \"is \",perm)\n",
        "        print(\"Combination of \",n,\"and \",r, \"is \",comb)\n",
        "      else:\n",
        "        print(\"Incorrect input total object cannot be less than orderd object\")\n",
        "    else :\n",
        "      print(\"False input: The number is < 0\")\n",
        "  except ValueError:\n",
        "      print(\"The numbers entered are not digits\")\n",
        "else:\n",
        "   print(\"One or more value not entered\")"
      ],
      "execution_count": 0,
      "outputs": [
        {
          "output_type": "stream",
          "text": [
            "Total objects n\n",
            "100\n",
            "Ordered objects r\n",
            "3\n",
            "Permutation of  100 and  3 is  970200\n",
            "Combination of  100 and  3 is  161700\n"
          ],
          "name": "stdout"
        }
      ]
    },
    {
      "cell_type": "markdown",
      "metadata": {
        "id": "HwCtvKE9P5kg",
        "colab_type": "text"
      },
      "source": [
        "5. Decimal to binary"
      ]
    },
    {
      "cell_type": "code",
      "metadata": {
        "id": "faN3p3G3P9YO",
        "colab_type": "code",
        "outputId": "ed056f10-72e9-490a-b0fe-68e275a04eab",
        "colab": {
          "base_uri": "https://localhost:8080/",
          "height": 51
        }
      },
      "source": [
        "num=input()\n",
        "if num:\n",
        "  try:\n",
        "    num=int(num)\n",
        "    isInt=isinstance(num,int)\n",
        "    if isInt and num > 0:\n",
        "      binList = list()\n",
        "      while num > 0:\n",
        "        binList.append(num % 2)\n",
        "        num = int(num / 2)\n",
        "      binList.reverse()\n",
        "      listLen = len(binList)\n",
        "      for itr in range(listLen):\n",
        "        print(binList[itr],end=\" \")\n",
        "    else :\n",
        "      print(\"False input: The number is < 0\")\n",
        "  except ValueError:\n",
        "      print(\"The numbers entered are not digits\")\n",
        "else:\n",
        "   print(\"No value entered\")"
      ],
      "execution_count": 0,
      "outputs": [
        {
          "output_type": "stream",
          "text": [
            "122\n",
            "1 1 1 1 0 1 0 "
          ],
          "name": "stdout"
        }
      ]
    },
    {
      "cell_type": "markdown",
      "metadata": {
        "id": "376HWBTYn8uX",
        "colab_type": "text"
      },
      "source": [
        "6. Armstrong Number"
      ]
    },
    {
      "cell_type": "code",
      "metadata": {
        "id": "Ra0ry-7hoFmA",
        "colab_type": "code",
        "outputId": "bed05db4-afe7-4f21-9460-083d9eb53d37",
        "colab": {
          "base_uri": "https://localhost:8080/",
          "height": 51
        }
      },
      "source": [
        "def cube(num):\n",
        "  return num*num*num\n",
        "\n",
        "def cubesum(num):\n",
        "  total = 0\n",
        "  while(num > 0):\n",
        "    total = total + cube(num % 10)\n",
        "    num = int(num / 10)\n",
        "  total = total + num\n",
        "  return total\n",
        "\n",
        "def printArmstrong(num,flag):\n",
        "  if flag:\n",
        "    print(\"The number:\",num, \"is an Armstrong number\")\n",
        "  else:\n",
        "    print(\"The number:\",num, \"is not an Armstrong number\")\n",
        "\n",
        "def isArmstrong(num):\n",
        "  total=0\n",
        "  total = cubesum(num)\n",
        "  if total == num:\n",
        "    return 1\n",
        "  else :\n",
        "    return 0\n",
        "\n",
        "num=input()\n",
        "if num:\n",
        "  try:\n",
        "      num=int(num)\n",
        "      isInt=isinstance(num,int)\n",
        "      if isInt and num > 0:\n",
        "        retValue = isArmstrong(num)\n",
        "        printArmstrong(num,retValue)\n",
        "      else :\n",
        "        print(\"False input: The number is < 0\")\n",
        "  except ValueError:\n",
        "      print(\"The numbers entered are not digits\")\n",
        "else:\n",
        "   print(\"No value entered\")"
      ],
      "execution_count": 0,
      "outputs": [
        {
          "output_type": "stream",
          "text": [
            "153\n",
            "The number: 153 is an Armstrong number\n"
          ],
          "name": "stdout"
        }
      ]
    },
    {
      "cell_type": "markdown",
      "metadata": {
        "id": "8gH7defTA_O3",
        "colab_type": "text"
      },
      "source": [
        "7. Product of digits"
      ]
    },
    {
      "cell_type": "code",
      "metadata": {
        "id": "fd2YBMyVBfd4",
        "colab_type": "code",
        "outputId": "f88f9c57-4a85-49b7-94ee-747f0dc4707c",
        "colab": {
          "base_uri": "https://localhost:8080/",
          "height": 51
        }
      },
      "source": [
        "def prodDigits(intList):\n",
        "  prod = 1\n",
        "  for element in intList:\n",
        "    if element != 0:\n",
        "      prod*=element\n",
        "  return prod\n",
        "\n",
        "\n",
        "inputStr=input()\n",
        "if inputStr:\n",
        "  try:\n",
        "      intList = list()\n",
        "      for string in inputStr:\n",
        "        if string == '.':\n",
        "          continue\n",
        "        else:\n",
        "          num=int(string)\n",
        "          isInt=isinstance(num,int)\n",
        "          if isInt :\n",
        "            intList.append(num)\n",
        "          else :\n",
        "            print(\"The input has one or more non-numeric character\")\n",
        "            break\n",
        "      retValue = prodDigits(intList)\n",
        "      print(\"The product of the digits is:\",retValue)\n",
        "  except ValueError:\n",
        "      print(\"The numbers entered are not digits\")\n",
        "else:\n",
        "   print(\"No value entered\")"
      ],
      "execution_count": 0,
      "outputs": [
        {
          "output_type": "stream",
          "text": [
            "209.2\n",
            "The product of the digits is: 36\n"
          ],
          "name": "stdout"
        }
      ]
    },
    {
      "cell_type": "markdown",
      "metadata": {
        "id": "Hd05LiV30aa-",
        "colab_type": "text"
      },
      "source": [
        "8. MDR and MPersistence"
      ]
    },
    {
      "cell_type": "code",
      "metadata": {
        "id": "5mUgCZVD0ebr",
        "colab_type": "code",
        "outputId": "59e6d57a-fbaa-43f5-b1c6-b22215b39b0f",
        "colab": {
          "base_uri": "https://localhost:8080/",
          "height": 68
        }
      },
      "source": [
        "def prodDigits(intList):\n",
        "  prod = 1\n",
        "  for element in intList:\n",
        "    if element != 0:\n",
        "      prod*=element\n",
        "  return prod\n",
        "\n",
        "def MDR(intList):\n",
        "  flag = 0\n",
        "  mdr = 0\n",
        "  mpers = 0\n",
        "  if len(intList) > 1:\n",
        "    mdr,mpers = Mpersistence(intList)\n",
        "\n",
        "  print (\"the MDR is \", mdr)\n",
        "  print (\"The Mpersistence is \", mpers)\n",
        "\n",
        "def Mpersistence(intList):\n",
        "  mpers = 0\n",
        "  if len(intList) > 1:\n",
        "    prod = 100\n",
        "    while prod > 10 :\n",
        "      prod = prodDigits(intList)\n",
        "      mpers+=1\n",
        "      intList.clear()\n",
        "      temp = prod\n",
        "      while temp > 0:\n",
        "        intList.append(temp % 10)\n",
        "        temp = temp - (temp % 10)\n",
        "        temp = int (temp/10)\n",
        "  return prod,mpers\n",
        "      \n",
        "\n",
        "inputStr=input()\n",
        "if inputStr:\n",
        "  try:\n",
        "      intList = list()\n",
        "      for string in inputStr:\n",
        "        if string == '.':\n",
        "          continue\n",
        "        else:\n",
        "          num=int(string)\n",
        "          isInt=isinstance(num,int)\n",
        "          if isInt :\n",
        "            intList.append(num)\n",
        "          else :\n",
        "            print(\"The input has one or more non-numeric character\")\n",
        "            break\n",
        "      MDR(intList)\n",
        "  except ValueError:\n",
        "      print(\"The numbers entered are not digits\")\n",
        "else:\n",
        "   print(\"No value entered\")"
      ],
      "execution_count": 0,
      "outputs": [
        {
          "output_type": "stream",
          "text": [
            "209.2\n",
            "the MDR is  8\n",
            "The Mpersistence is  3\n"
          ],
          "name": "stdout"
        }
      ]
    },
    {
      "cell_type": "markdown",
      "metadata": {
        "id": "BiLFRQH1R4pO",
        "colab_type": "text"
      },
      "source": [
        "9. Sum of proper divisors"
      ]
    },
    {
      "cell_type": "code",
      "metadata": {
        "id": "Fn9BrahXR--s",
        "colab_type": "code",
        "outputId": "b034ad73-29e3-44f9-e67a-caa7ab4564c8",
        "colab": {
          "base_uri": "https://localhost:8080/",
          "height": 51
        }
      },
      "source": [
        "def sumPdivisors(num):\n",
        "  intList = list()\n",
        "  for itr in range(1, int(num/2 + 1)):\n",
        "    if num% itr == 0:\n",
        "      intList.append(itr)\n",
        "  sumList=sum(intList)\n",
        "  return sumList\n",
        "\n",
        "num=input()\n",
        "if num:\n",
        "  try:\n",
        "      num=int(num)\n",
        "      isInt=isinstance(num,int)\n",
        "      if isInt and num > 0:\n",
        "        retValue = sumPdivisors(num)\n",
        "        print(\"Sum of proper divisors is:\", retValue)\n",
        "      else :\n",
        "        print(\"False input: The number is < 0\")\n",
        "  except ValueError:\n",
        "      print(\"The numbers entered are not digits\")\n",
        "else:\n",
        "   print(\"No value entered\")"
      ],
      "execution_count": 0,
      "outputs": [
        {
          "output_type": "stream",
          "text": [
            "36\n",
            "Sum of proper divisors is: 55\n"
          ],
          "name": "stdout"
        }
      ]
    },
    {
      "cell_type": "markdown",
      "metadata": {
        "id": "AFJLj3ER1cEJ",
        "colab_type": "text"
      },
      "source": [
        "10. Perfect numbers in a range"
      ]
    },
    {
      "cell_type": "code",
      "metadata": {
        "id": "At0zoCY81gnM",
        "colab_type": "code",
        "outputId": "0d74a5c5-00ad-45e7-a998-6ae604cf0835",
        "colab": {
          "base_uri": "https://localhost:8080/",
          "height": 51
        }
      },
      "source": [
        "def sumPdivisors(num):\n",
        "  intList = list()\n",
        "  for itr in range(1, int(num/2 + 1)):\n",
        "    if num% itr == 0:\n",
        "      intList.append(itr)\n",
        "  sumList=sum(intList)\n",
        "  return sumList\n",
        "\n",
        "num=input()\n",
        "if num:\n",
        "  try:\n",
        "      num=int(num)\n",
        "      isInt=isinstance(num,int)\n",
        "      if isInt and num > 0:\n",
        "        firstPrint = 1\n",
        "        for itr in range(1,num+1):\n",
        "          retValue = sumPdivisors(itr)\n",
        "          if retValue == itr:\n",
        "            if firstPrint == 0:\n",
        "              print(\",\",retValue)\n",
        "            else:\n",
        "              firstPrint = 0\n",
        "              print(retValue,end=\" \")\n",
        "          else:\n",
        "            continue   \n",
        "      else :\n",
        "        print(\"False input: The number is < 0\")\n",
        "  except ValueError:\n",
        "      print(\"The numbers entered are not digits\")\n",
        "else:\n",
        "   print(\"No value entered\")"
      ],
      "execution_count": 0,
      "outputs": [
        {
          "output_type": "stream",
          "text": [
            "220\n",
            "6 , 28\n"
          ],
          "name": "stdout"
        }
      ]
    },
    {
      "cell_type": "markdown",
      "metadata": {
        "id": "dPymnDhu0QHo",
        "colab_type": "text"
      },
      "source": [
        "11. Amicable Numbers"
      ]
    },
    {
      "cell_type": "code",
      "metadata": {
        "id": "fAyx_AkS0ThN",
        "colab_type": "code",
        "outputId": "aa36ddbf-1e22-450c-ff78-a0a1972a760a",
        "colab": {
          "base_uri": "https://localhost:8080/",
          "height": 102
        }
      },
      "source": [
        "def sumPdivisors(num):\n",
        "  intList = list()\n",
        "  for itr in range(1, int(num/2 + 1)):\n",
        "    if num% itr == 0:\n",
        "      intList.append(itr)\n",
        "  sumList=sum(intList)\n",
        "  return sumList\n",
        "\n",
        "def compareList(rangeList, pDivisorsList):\n",
        "  amicableList = list()\n",
        "  listLen = len(rangeList)\n",
        "  for itr in range(listLen):\n",
        "    if rangeList[itr] in pDivisorsList:\n",
        "      divIndex = pDivisorsList.index(rangeList[itr])\n",
        "      \n",
        "      if rangeList[divIndex] == pDivisorsList[itr]:\n",
        "        strAppend = rangeList[itr],rangeList[divIndex]\n",
        "        amicableList.append(strAppend)\n",
        "\n",
        "  return amicableList\n",
        "\n",
        "print(\"Lower Range\")\n",
        "lower = input()\n",
        "print(\"Upper Range\")\n",
        "upper = input()\n",
        "if upper and lower:\n",
        "  try:\n",
        "    upper=int(upper)\n",
        "    lower=int(lower)\n",
        "    upperIsInt=isinstance(upper,int)\n",
        "    lowerIsInt=isinstance(lower,int)\n",
        "    if upperIsInt and lowerIsInt and upperIsInt>0 and lowerIsInt>0:\n",
        "      if upper > lower:\n",
        "        rangeList = list()\n",
        "        pDivisorsList = list()\n",
        "        for itr in range(lower,upper+1):\n",
        "          rangeList.append(itr)\n",
        "        pDivisorsList = list(map(lambda x: sumPdivisors(x),rangeList))\n",
        "\n",
        "        amicableList = compareList(rangeList, pDivisorsList)\n",
        "        if len(amicableList) > 0:\n",
        "          print(\"The amicable list is \", amicableList)\n",
        "        else:\n",
        "          print(\"No amicable numbers in the given range\")\n",
        "      else:\n",
        "        print(\"Incorrect input lower range cannot be less than upper range\")\n",
        "    else :\n",
        "      print(\"False input: One or two input enetered is/are < 0\")\n",
        "  except ValueError:\n",
        "      print(\"The numbers entered are not digits\")\n",
        "else:\n",
        "   print(\"One or more value not entered\")\n"
      ],
      "execution_count": 0,
      "outputs": [
        {
          "output_type": "stream",
          "text": [
            "Lower Range\n",
            "220\n",
            "Upper Range\n",
            "284\n",
            "The amicable list is  [(220, 284), (284, 220)]\n"
          ],
          "name": "stdout"
        }
      ]
    },
    {
      "cell_type": "markdown",
      "metadata": {
        "id": "ZztmWvVQpKHb",
        "colab_type": "text"
      },
      "source": [
        "12. Odd numbers in a list using filters"
      ]
    },
    {
      "cell_type": "code",
      "metadata": {
        "id": "GjbKnDdvpPJk",
        "colab_type": "code",
        "outputId": "532ce34d-2949-428b-9e1a-d5cad90084f6",
        "colab": {
          "base_uri": "https://localhost:8080/",
          "height": 153
        }
      },
      "source": [
        "print(\"Enter number of elements in a list\")\n",
        "try:\n",
        "  elements = int(input())\n",
        "  if isinstance(elements,int):\n",
        "    inputList = list()\n",
        "    for itr in range(0,elements):\n",
        "      listElem = int(input())\n",
        "      if isinstance(listElem,int):\n",
        "        inputList.append(listElem)\n",
        "      else:\n",
        "        print(\"Invalid entry in the list\")\n",
        "        break\n",
        "    outList= list(filter(lambda var : (var %2 == 1),inputList))\n",
        "    if len(outList):\n",
        "      print(outList)\n",
        "    else:\n",
        "      print(\"No odd numbers in the list\")\n",
        "  else:\n",
        "    print(\"number of elements entered is invalid\")\n",
        "except ValueError:\n",
        "  print(\"The entered value is not integer\")"
      ],
      "execution_count": 0,
      "outputs": [
        {
          "output_type": "stream",
          "text": [
            "Enter number of elements in a list\n",
            "5\n",
            "2224\n",
            "33\n",
            "91\n",
            "84\n",
            "780\n",
            "[33, 91]\n"
          ],
          "name": "stdout"
        }
      ]
    },
    {
      "cell_type": "markdown",
      "metadata": {
        "id": "RfG0ODoW9ouK",
        "colab_type": "text"
      },
      "source": [
        "13.  list whose elements are cube of elements in\n",
        "a given list\n"
      ]
    },
    {
      "cell_type": "code",
      "metadata": {
        "id": "_fBNVr2i4_KJ",
        "colab_type": "code",
        "outputId": "efb45e2a-ec77-4e5f-da4d-0012949d392a",
        "colab": {
          "base_uri": "https://localhost:8080/",
          "height": 136
        }
      },
      "source": [
        "print(\"Enter number of elements in a list\")\n",
        "try:\n",
        "  elements = int(input())\n",
        "  if isinstance(elements,int):\n",
        "    inputList = list()\n",
        "    for itr in range(0,elements):\n",
        "      listElem = int(input())\n",
        "      if isinstance(listElem,int):\n",
        "        inputList.append(listElem)\n",
        "      else:\n",
        "        print(\"Invalid entry in the list\")\n",
        "        break\n",
        "    outList= list(map(lambda var : var*var*var,inputList))\n",
        "    if len(outList):\n",
        "      print(outList)\n",
        "    else:\n",
        "      print(\"No numbers to print in the list\")\n",
        "  else:\n",
        "    print(\"number of elements entered is invalid\")\n",
        "except ValueError:\n",
        "  print(\"The entered value is not integer\")"
      ],
      "execution_count": 0,
      "outputs": [
        {
          "output_type": "stream",
          "text": [
            "Enter number of elements in a list\n",
            "4\n",
            "33\n",
            "7\n",
            "6\n",
            "89\n",
            "[35937, 343, 216, 704969]\n"
          ],
          "name": "stdout"
        }
      ]
    },
    {
      "cell_type": "markdown",
      "metadata": {
        "id": "2sMp-o3t_xh3",
        "colab_type": "text"
      },
      "source": [
        "14.  map() and filter() to make a list whose elements are cube of\n",
        "even number in a given list\n"
      ]
    },
    {
      "cell_type": "code",
      "metadata": {
        "id": "9EokGe0s_0rG",
        "colab_type": "code",
        "outputId": "e3f640a6-153d-4bb0-f752-b8b9e11b3fa1",
        "colab": {
          "base_uri": "https://localhost:8080/",
          "height": 136
        }
      },
      "source": [
        "print(\"Enter number of elements in a list\")\n",
        "try:\n",
        "  elements = int(input())\n",
        "  if isinstance(elements,int):\n",
        "    inputList = list()\n",
        "    for itr in range(0,elements):\n",
        "      listElem = int(input())\n",
        "      if isinstance(listElem,int):\n",
        "        inputList.append(listElem)\n",
        "      else:\n",
        "        print(\"Invalid entry in the list\")\n",
        "        break\n",
        "    outListEven= list(filter(lambda var : (var %2 == 0),inputList))\n",
        "    outListCube= list(map(lambda var : var*var*var,outListEven))\n",
        "    if len(outListCube):\n",
        "      print(outListCube)\n",
        "    else:\n",
        "      print(\"No numbers to print in the list\")\n",
        "  else:\n",
        "    print(\"number of elements entered is invalid\")\n",
        "except ValueError:\n",
        "  print(\"The entered value is not integer\")"
      ],
      "execution_count": 0,
      "outputs": [
        {
          "output_type": "stream",
          "text": [
            "Enter number of elements in a list\n",
            "4\n",
            "3\n",
            "6\n",
            "8\n",
            "9\n",
            "[216, 512]\n"
          ],
          "name": "stdout"
        }
      ]
    }
  ]
}